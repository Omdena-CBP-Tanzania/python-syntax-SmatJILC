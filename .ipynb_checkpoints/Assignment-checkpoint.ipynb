{
 "cells": [
  {
   "cell_type": "code",
   "execution_count": 6,
   "id": "8bacc5d7-6c07-4baf-a92c-a9a86e0ceda2",
   "metadata": {},
   "outputs": [
    {
     "name": "stdin",
     "output_type": "stream",
     "text": [
      "What is your name?:  Chepesi\n",
      "How old are you?:  47\n"
     ]
    },
    {
     "name": "stdout",
     "output_type": "stream",
     "text": [
      "My name is Chepesi and I am 47 years old\n"
     ]
    }
   ],
   "source": [
    "# Part 1: Python Syntax\n",
    "\n",
    "# 1 -format_string(name, age)\n",
    "name = input(\"What is your name?: \")\n",
    "age = input (\"How old are you?: \")\n",
    "\n",
    "print (f\"My name is {name} and I am {age} years old\")"
   ]
  },
  {
   "cell_type": "code",
   "execution_count": 14,
   "id": "856bf362-1283-4c4c-8f32-a43119eb9452",
   "metadata": {},
   "outputs": [
    {
     "name": "stdin",
     "output_type": "stream",
     "text": [
      "Enter a number:  10\n"
     ]
    },
    {
     "name": "stdout",
     "output_type": "stream",
     "text": [
      "Equal\n"
     ]
    }
   ],
   "source": [
    "# 2 -conditional_check(number)\n",
    "number = int(input(\"Enter a number: \"))\n",
    "\n",
    "if number > 10:\n",
    "    print (\"Greater\")\n",
    "elif number < 10:\n",
    "    print (\"Lesser\")\n",
    "else:\n",
    "    print (\"Equal\")\n",
    "    "
   ]
  },
  {
   "cell_type": "code",
   "execution_count": 19,
   "id": "9be156bf-30b6-48fa-873f-0646e251ccde",
   "metadata": {},
   "outputs": [
    {
     "name": "stdin",
     "output_type": "stream",
     "text": [
      "Enter a number:  5\n"
     ]
    },
    {
     "name": "stdout",
     "output_type": "stream",
     "text": [
      "The sum of numbers from 1 to 5 is 15\n"
     ]
    }
   ],
   "source": [
    "# 3 -oop_sum(n)\n",
    "sum = 0\n",
    "n = int(input(\"Enter a number: \"))\n",
    "\n",
    "for n in range(1,n+1):\n",
    "    sum = sum + n\n",
    "\n",
    "print (f\"The sum of numbers from 1 to {n} is {sum}\")\n",
    "           "
   ]
  },
  {
   "cell_type": "code",
   "execution_count": 25,
   "id": "d510d3c9-4347-4b85-abc5-7ef31c524f46",
   "metadata": {},
   "outputs": [
    {
     "name": "stdout",
     "output_type": "stream",
     "text": [
      "[10, 12, 15, 7, 18, 23, 45, 26]\n",
      "Sum of the list is 156, and the Biggest number is 45 and the Smallest number is 7\n"
     ]
    }
   ],
   "source": [
    "# Part 2: Data Structure\n",
    "\n",
    "# 1 -list_operations(numbers)\n",
    "Sum = 0\n",
    "numbers = [10,12,15,7,18,23,45,26]\n",
    "Max = numbers[0]\n",
    "Min = numbers[0]\n",
    "\n",
    "for n in numbers:\n",
    "    Sum = Sum + n\n",
    "    if n > Max:\n",
    "        Max = n\n",
    "    if n < Min:\n",
    "        Min = n\n",
    "\n",
    "print(numbers)\n",
    "print (f\"Sum of the list is {Sum}, and the Biggest number is {Max} and the Smallest number is {Min}\")\n"
   ]
  },
  {
   "cell_type": "code",
   "execution_count": 23,
   "id": "219c00e7-bbd6-4995-aa54-feaaf661bc67",
   "metadata": {},
   "outputs": [
    {
     "name": "stdout",
     "output_type": "stream",
     "text": [
      "['John', 'Chepesi']\n"
     ]
    }
   ],
   "source": [
    "# 2 -dict_operations(students_dict)\n",
    "students_dict = {\n",
    "    \"John\":83,\n",
    "    \"Amosi\":72,\n",
    "    \"Chepesi\":87,\n",
    "    \"Isidore\":79\n",
    "}\n",
    "\n",
    "names=[]\n",
    "for name, score in students_dict.items():\n",
    "    if score > 80:\n",
    "        names.append(name)\n",
    "\n",
    "print (names)\n",
    "\n"
   ]
  },
  {
   "cell_type": "code",
   "execution_count": 36,
   "id": "f5eb5156-0759-40f8-a6aa-7f470045edb9",
   "metadata": {},
   "outputs": [
    {
     "name": "stdout",
     "output_type": "stream",
     "text": [
      "{1, 3, 5, 7, 9, 11}\n"
     ]
    }
   ],
   "source": [
    "# 3 -set_operations(list1, list2)\n",
    "list1 ={1,2,3,4,5,6,7,8,9,10,11}\n",
    "list2 ={1,3,5,7,9,11}\n",
    "\n",
    "set0 = list1.intersection(list2)\n",
    "print(set0)\n"
   ]
  },
  {
   "cell_type": "code",
   "execution_count": null,
   "id": "7d89cef6-50f2-418c-87e1-e671a3807131",
   "metadata": {},
   "outputs": [],
   "source": []
  }
 ],
 "metadata": {
  "kernelspec": {
   "display_name": "Python 3 (ipykernel)",
   "language": "python",
   "name": "python3"
  },
  "language_info": {
   "codemirror_mode": {
    "name": "ipython",
    "version": 3
   },
   "file_extension": ".py",
   "mimetype": "text/x-python",
   "name": "python",
   "nbconvert_exporter": "python",
   "pygments_lexer": "ipython3",
   "version": "3.12.7"
  }
 },
 "nbformat": 4,
 "nbformat_minor": 5
}
